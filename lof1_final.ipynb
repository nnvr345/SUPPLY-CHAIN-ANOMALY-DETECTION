{
 "cells": [
  {
   "cell_type": "code",
   "execution_count": 13,
   "metadata": {},
   "outputs": [],
   "source": [
    "import numpy as np\n",
    "import pandas as pd\n",
    "from sklearn.preprocessing import StandardScaler\n",
    "from sklearn.neighbors import LocalOutlierFactor\n",
    "from sklearn.metrics import precision_score, recall_score, f1_score, accuracy_score, confusion_matrix"
   ]
  },
  {
   "cell_type": "code",
   "execution_count": 14,
   "metadata": {},
   "outputs": [],
   "source": [
    "data = pd.read_csv(\"C:\\\\Users\\\\HP\\\\Desktop\\\\labs\\\\final\\\\cleaned_data_1.csv\")\n",
    "\n",
    "features = ['line_item_quantity', 'unit_price', 'pack_price', 'line_item_value', 'line_item_insurance', 'weight']\n",
    "\n",
    "X = data[features]\n",
    "\n",
    "X = X.apply(pd.to_numeric, errors='coerce')\n",
    "\n",
    "X = X.dropna()"
   ]
  },
  {
   "cell_type": "code",
   "execution_count": 15,
   "metadata": {},
   "outputs": [],
   "source": [
    "\n",
    "scaler = StandardScaler()\n",
    "X_scaled = scaler.fit_transform(X)"
   ]
  },
  {
   "cell_type": "code",
   "execution_count": 16,
   "metadata": {},
   "outputs": [],
   "source": [
    "# Build and fitting the LOF model\n",
    "lof = LocalOutlierFactor(n_neighbors=15, contamination=0.05)\n",
    "y_pred = lof.fit_predict(X_scaled)"
   ]
  },
  {
   "cell_type": "code",
   "execution_count": 23,
   "metadata": {},
   "outputs": [],
   "source": [
    "# from sklearn.metrics import silhouette_score\n",
    "# # Calculate the Silhouette Score\n",
    "# silhouette_avg = silhouette_score(X_scaled, y_pred)\n",
    "\n",
    "# print(f\"Silhouette Score: {silhouette_avg:.2f}\")\n",
    "\n",
    "# # LOF\n",
    "# import time\n",
    "# start_time = time.time()\n",
    "# lof = LocalOutlierFactor(n_neighbors=100, contamination=0.05)\n",
    "# lof.fit(X_scaled)\n",
    "# lof_time = time.time() - start_time\n",
    "# print(f\"LOF Time: {lof_time:.4f} seconds\")"
   ]
  },
  {
   "cell_type": "code",
   "execution_count": 25,
   "metadata": {},
   "outputs": [
    {
     "name": "stdout",
     "output_type": "stream",
     "text": [
      "Confusion Matrix:\n",
      "[[4271    0]\n",
      " [   0  225]]\n",
      "Precision: 1.00\n",
      "Recall: 1.00\n",
      "F1 Score: 1.00\n"
     ]
    }
   ],
   "source": [
    "true_labels = np.where(y_pred == -1, 1, 0) \n",
    "predicted_labels = np.where(y_pred == -1, 1, 0)\n",
    "\n",
    "# Confusion Matrix\n",
    "cm = confusion_matrix(true_labels, predicted_labels)\n",
    "\n",
    "# Precision, Recall, F1 Score, and Accuracy\n",
    "precision = precision_score(true_labels, predicted_labels, zero_division=1)\n",
    "recall = recall_score(true_labels, predicted_labels, zero_division=1)\n",
    "f1 = f1_score(true_labels, predicted_labels, zero_division=1)\n",
    "# accuracy = accuracy_score(true_labels, predicted_labels)\n",
    "\n",
    "\n",
    "\n",
    "print(\"Confusion Matrix:\")\n",
    "print(cm)\n",
    "print(f\"Precision: {precision:.2f}\")\n",
    "print(f\"Recall: {recall:.2f}\")\n",
    "print(f\"F1 Score: {f1:.2f}\")\n",
    "# print(f\"Accuracy: {accuracy:.2f}\")\n",
    "\n"
   ]
  },
  {
   "cell_type": "code",
   "execution_count": 19,
   "metadata": {},
   "outputs": [
    {
     "name": "stdout",
     "output_type": "stream",
     "text": [
      "Indices of outliers: [   5   19   22   25   40   48   51   56   72   73   80   81   83   84\n",
      "   85   87  100  108  109  128  129  133  134  145  149  151  155  159\n",
      "  160  161  162  174  176  177  181  183  196  210  211  213  219  220\n",
      "  230  243  246  260  273  284  353  403  408  413  430  451  453  463\n",
      "  546  548  564  590  642  643  648  650  679  717  735  741  774  794\n",
      "  801  819  849  863  869  903  971  972  982  994 1015 1017 1026 1029\n",
      " 1030 1032 1035 1072 1075 1090 1145 1157 1178 1183 1196 1197 1198 1219\n",
      " 1227 1236 1257 1258 1300 1332 1348 1369 1370 1379 1387 1390 1392 1411\n",
      " 1468 1500 1508 1512 1524 1528 1559 1562 1566 1568 1624 1626 1642 1707\n",
      " 1712 1733 1766 1813 1856 1904 1914 1935 1958 1965 1998 2006 2015 2059\n",
      " 2095 2182 2196 2215 2346 2379 2399 2440 2475 2526 2533 2552 2561 2580\n",
      " 2589 2616 2625 2650 2671 2672 2704 2705 2706 2713 2724 2726 2732 2766\n",
      " 2825 2827 2833 2852 2869 2905 2966 2978 2989 3006 3012 3024 3026 3029\n",
      " 3065 3079 3107 3253 3287 3300 3322 3374 3384 3414 3461 3524 3577 3601\n",
      " 3643 3647 3649 3655 3662 3720 3742 3798 3802 3827 3844 3846 3864 3875\n",
      " 3877 3944 4008 4028 4042 4053 4087 4092 4127 4230 4246 4296 4435 4457\n",
      " 4466]\n",
      "Details of outliers:\n",
      "         id  line_item_quantity  unit_price  pack_price  line_item_value  \\\n",
      "5        45               16667        0.06        3.65         60834.55   \n",
      "19      420                8400        0.38       11.48         96432.00   \n",
      "22      438                 400        0.12        7.00          2800.00   \n",
      "25      532                 100        0.64       19.06          1906.00   \n",
      "40     2947                 400        0.02        1.50           600.00   \n",
      "...     ...                 ...         ...         ...              ...   \n",
      "4246  78340                1049        0.68       82.20         86227.80   \n",
      "4296  79841                7420        0.01        1.95         14469.00   \n",
      "4435  82307                 500        0.27        8.14          4070.00   \n",
      "4457  82332                3872        0.01        1.83          7085.76   \n",
      "4466  82343               23340        0.27       16.44        383709.60   \n",
      "\n",
      "      line_item_insurance sub_classification    dosage  \\\n",
      "5              240.117626              Adult     200mg   \n",
      "19             154.290000              Adult     600mg   \n",
      "22               4.480000          Pediatric      25mg   \n",
      "25               3.050000              Adult     250mg   \n",
      "40               0.960000              Adult      15mg   \n",
      "...                   ...                ...       ...   \n",
      "4246           142.280000              Adult  200/50mg   \n",
      "4296            20.290000          Pediatric   10mg/ml   \n",
      "4435             8.770000              Adult     300mg   \n",
      "4457            15.280000          Pediatric   10mg/ml   \n",
      "4466           827.280000              Adult     300mg   \n",
      "\n",
      "                          weight  \n",
      "5                           1478  \n",
      "19                           654  \n",
      "22                            81  \n",
      "25    Weight Captured Separately  \n",
      "40                            83  \n",
      "...                          ...  \n",
      "4246                         264  \n",
      "4296   See ASN-15328 (ID#:46005)  \n",
      "4435                          28  \n",
      "4457                        1438  \n",
      "4466                        2344  \n",
      "\n",
      "[225 rows x 9 columns]\n"
     ]
    }
   ],
   "source": [
    "outlier_indices = np.where(y_pred == -1)[0]\n",
    "print(\"Indices of outliers:\", outlier_indices)\n",
    "\n",
    "outliers = data.iloc[outlier_indices]\n",
    "print(\"Details of outliers:\")\n",
    "print(outliers)"
   ]
  },
  {
   "cell_type": "code",
   "execution_count": 20,
   "metadata": {},
   "outputs": [],
   "source": [
    "# # Analyzing results\n",
    "# print(pd.value_counts(y_pred))\n",
    "# print(X_scaled.loc[y_pred == -1, :])"
   ]
  },
  {
   "cell_type": "code",
   "execution_count": 21,
   "metadata": {},
   "outputs": [
    {
     "data": {
      "image/png": "[encoded data removed]",
      "text/plain": [
       "<Figure size 640x480 with 1 Axes>"
      ]
     },
     "metadata": {},
     "output_type": "display_data"
    }
   ],
   "source": [
    "import matplotlib.pyplot as plt\n",
    "plt.hist(y_pred, bins=50, color='skyblue', edgecolor='black')\n",
    "plt.xlabel('LOF Score')\n",
    "plt.ylabel('Frequency')\n",
    "plt.title('Histogram of LOF Scores')\n",
    "plt.show()"
   ]
  },
  {
   "cell_type": "code",
   "execution_count": 22,
   "metadata": {},
   "outputs": [],
   "source": [
    "# import numpy as np\n",
    "# import pandas as pd\n",
    "# from sklearn.preprocessing import StandardScaler\n",
    "# from sklearn.neighbors import LocalOutlierFactor\n",
    "# from sklearn.metrics import mean_squared_error, precision_score, recall_score, f1_score, accuracy_score, confusion_matrix\n",
    "\n",
    "# # Read the data\n",
    "# data = pd.read_csv(\"C:\\\\Users\\\\HP\\\\Desktop\\\\labs\\\\final\\\\cleaned_data_1.csv\")\n",
    "\n",
    "# # Select features\n",
    "# features = ['line_item_quantity', 'unit_price', 'pack_price', 'line_item_value', 'line_item_insurance', 'weight']\n",
    "\n",
    "# # Extract feature values and handle missing values\n",
    "# X = data[features].apply(pd.to_numeric, errors='coerce').dropna()\n",
    "\n",
    "# # Standardize the data\n",
    "# scaler = StandardScaler()\n",
    "# X_scaled = scaler.fit_transform(X)\n",
    "\n",
    "# # Build and fit the LOF model\n",
    "# lof = LocalOutlierFactor(n_neighbors=100, contamination=0.05)\n",
    "# y_pred = lof.fit_predict(X_scaled)\n",
    "\n",
    "# # # Calculate Mean Squared Error for LOF scores\n",
    "# # mse = mean_squared_error(np.ones_like(y_pred), -lof.negative_outlier_factor_)  # assuming inliers are labeled as 1\n",
    "# # print(f'Mean Squared Error of LOF Scores: {mse*100:.4f}')\n",
    "\n",
    "# from sklearn.metrics import mean_squared_error\n",
    "\n",
    "# # Calculate the negative LOF scores (anomaly scores)\n",
    "# lof_scores = -lof.negative_outlier_factor_\n",
    "\n",
    "# # Calculate Mean Squared Error\n",
    "# mse = mean_squared_error(true_labels, lof_scores)\n",
    "\n",
    "# print(f\"Mean Squared Error: {mse:.2f}\")\n",
    "\n",
    "\n"
   ]
  }
 ],
 "metadata": {
  "kernelspec": {
   "display_name": "Python 3",
   "language": "python",
   "name": "python3"
  },
  "language_info": {
   "codemirror_mode": {
    "name": "ipython",
    "version": 3
   },
   "file_extension": ".py",
   "mimetype": "text/x-python",
   "name": "python",
   "nbconvert_exporter": "python",
   "pygments_lexer": "ipython3",
   "version": "3.11.6"
  }
 },
 "nbformat": 4,
 "nbformat_minor": 2
}
